{
 "cells": [
  {
   "cell_type": "markdown",
   "id": "544a952f",
   "metadata": {},
   "source": [
    "WHY DO WE NEED TO DO SENTIMENT ANALYSIS"
   ]
  },
  {
   "cell_type": "raw",
   "id": "ed674a88",
   "metadata": {},
   "source": [
    "The various steps involved in the Machine Learning Pipeline are:\n",
    "> Import Necessary Dependencies\n",
    "> Read and Load the Dataset\n",
    "> Exploratory Data Analysis\n",
    "> Feature Engineering\n",
    "> Data Visualization of Target Variables\n",
    "> Data Preprocessing\n",
    "> Splitting our data into Train and Test sets.\n",
    "> Transforming Dataset using TF-IDF Vectorizer\n",
    "> Function for Model Evaluation\n",
    "> Model Building\n",
    "> Model Evaluation"
   ]
  },
  {
   "cell_type": "code",
   "execution_count": 1,
   "id": "2f8663b7",
   "metadata": {},
   "outputs": [],
   "source": [
    "import pandas as pd\n",
    "import seaborn as sns\n",
    "import matplotlib.pyplot as plt\n",
    "import re\n",
    "import nltk\n",
    "from nltk.corpus import stopwords\n",
    "from nltk.stem import WordNetLemmatizer\n",
    "import string"
   ]
  },
  {
   "cell_type": "code",
   "execution_count": 2,
   "id": "8fa0e154",
   "metadata": {},
   "outputs": [],
   "source": [
    "# pip install wordcloud"
   ]
  },
  {
   "cell_type": "code",
   "execution_count": 3,
   "id": "572bbbb9",
   "metadata": {},
   "outputs": [],
   "source": [
    "import numpy as np\n",
    "import sklearn\n",
    "from wordcloud import wordcloud\n",
    "from sklearn.feature_extraction.text import CountVectorizer\n",
    "from sklearn.model_selection import GridSearchCV\n",
    "from sklearn.ensemble import RandomForestClassifier"
   ]
  },
  {
   "cell_type": "code",
   "execution_count": 4,
   "id": "e4ab1cc0",
   "metadata": {},
   "outputs": [],
   "source": [
    "from sklearn.metrics import accuracy_score,precision_score,recall_score,confusion_matrix,roc_curve,classification_report\n"
   ]
  },
  {
   "cell_type": "code",
   "execution_count": 5,
   "id": "30f99494",
   "metadata": {},
   "outputs": [],
   "source": [
    "data = pd.read_csv(r\"C:\\Users\\Asus\\Downloads\\netflix_reviews.csv\\netflix_reviews.csv\")"
   ]
  },
  {
   "cell_type": "code",
   "execution_count": 6,
   "id": "d2c69a91",
   "metadata": {},
   "outputs": [
    {
     "data": {
      "text/html": [
       "<div>\n",
       "<style scoped>\n",
       "    .dataframe tbody tr th:only-of-type {\n",
       "        vertical-align: middle;\n",
       "    }\n",
       "\n",
       "    .dataframe tbody tr th {\n",
       "        vertical-align: top;\n",
       "    }\n",
       "\n",
       "    .dataframe thead th {\n",
       "        text-align: right;\n",
       "    }\n",
       "</style>\n",
       "<table border=\"1\" class=\"dataframe\">\n",
       "  <thead>\n",
       "    <tr style=\"text-align: right;\">\n",
       "      <th></th>\n",
       "      <th>reviewId</th>\n",
       "      <th>userName</th>\n",
       "      <th>content</th>\n",
       "      <th>score</th>\n",
       "      <th>thumbsUpCount</th>\n",
       "      <th>reviewCreatedVersion</th>\n",
       "      <th>at</th>\n",
       "      <th>appVersion</th>\n",
       "    </tr>\n",
       "  </thead>\n",
       "  <tbody>\n",
       "    <tr>\n",
       "      <th>0</th>\n",
       "      <td>1a7ce341-afc6-46da-9d08-793582e8ed3c</td>\n",
       "      <td>Ivan Berry</td>\n",
       "      <td>I love 💕💕 to download it,,😭</td>\n",
       "      <td>5</td>\n",
       "      <td>0</td>\n",
       "      <td>NaN</td>\n",
       "      <td>2024-07-07 17:47:19</td>\n",
       "      <td>NaN</td>\n",
       "    </tr>\n",
       "    <tr>\n",
       "      <th>1</th>\n",
       "      <td>1bd445c3-7f36-4717-810a-63c5533207d0</td>\n",
       "      <td>Ryan Murray</td>\n",
       "      <td>Exceptional</td>\n",
       "      <td>5</td>\n",
       "      <td>1</td>\n",
       "      <td>8.121.2 build 22 50727</td>\n",
       "      <td>2024-07-07 12:31:53</td>\n",
       "      <td>8.121.2 build 22 50727</td>\n",
       "    </tr>\n",
       "    <tr>\n",
       "      <th>2</th>\n",
       "      <td>59f306cd-852b-4459-b24f-3e4436df8465</td>\n",
       "      <td>Shannon Bonacci</td>\n",
       "      <td>Can't even make it through a full episode of a...</td>\n",
       "      <td>2</td>\n",
       "      <td>2</td>\n",
       "      <td>8.121.2 build 22 50727</td>\n",
       "      <td>2024-07-07 05:21:45</td>\n",
       "      <td>8.121.2 build 22 50727</td>\n",
       "    </tr>\n",
       "    <tr>\n",
       "      <th>3</th>\n",
       "      <td>f21a1d8a-2b4c-4385-8aff-ca317a00e032</td>\n",
       "      <td>Katie Hutchinson</td>\n",
       "      <td>Great</td>\n",
       "      <td>5</td>\n",
       "      <td>0</td>\n",
       "      <td>8.26.0 build 11 40221</td>\n",
       "      <td>2024-07-06 19:47:34</td>\n",
       "      <td>8.26.0 build 11 40221</td>\n",
       "    </tr>\n",
       "    <tr>\n",
       "      <th>4</th>\n",
       "      <td>bdd267b4-4231-4a5d-b369-3ac9e5082fc5</td>\n",
       "      <td>Mirza Irfan</td>\n",
       "      <td>Your device is not part of the Netflix Househo...</td>\n",
       "      <td>1</td>\n",
       "      <td>0</td>\n",
       "      <td>8.120.0 build 10 50712</td>\n",
       "      <td>2024-07-05 17:09:39</td>\n",
       "      <td>8.120.0 build 10 50712</td>\n",
       "    </tr>\n",
       "  </tbody>\n",
       "</table>\n",
       "</div>"
      ],
      "text/plain": [
       "                               reviewId          userName  \\\n",
       "0  1a7ce341-afc6-46da-9d08-793582e8ed3c        Ivan Berry   \n",
       "1  1bd445c3-7f36-4717-810a-63c5533207d0       Ryan Murray   \n",
       "2  59f306cd-852b-4459-b24f-3e4436df8465   Shannon Bonacci   \n",
       "3  f21a1d8a-2b4c-4385-8aff-ca317a00e032  Katie Hutchinson   \n",
       "4  bdd267b4-4231-4a5d-b369-3ac9e5082fc5       Mirza Irfan   \n",
       "\n",
       "                                             content  score  thumbsUpCount  \\\n",
       "0                        I love 💕💕 to download it,,😭      5              0   \n",
       "1                                        Exceptional      5              1   \n",
       "2  Can't even make it through a full episode of a...      2              2   \n",
       "3                                              Great      5              0   \n",
       "4  Your device is not part of the Netflix Househo...      1              0   \n",
       "\n",
       "     reviewCreatedVersion                   at              appVersion  \n",
       "0                     NaN  2024-07-07 17:47:19                     NaN  \n",
       "1  8.121.2 build 22 50727  2024-07-07 12:31:53  8.121.2 build 22 50727  \n",
       "2  8.121.2 build 22 50727  2024-07-07 05:21:45  8.121.2 build 22 50727  \n",
       "3   8.26.0 build 11 40221  2024-07-06 19:47:34   8.26.0 build 11 40221  \n",
       "4  8.120.0 build 10 50712  2024-07-05 17:09:39  8.120.0 build 10 50712  "
      ]
     },
     "execution_count": 6,
     "metadata": {},
     "output_type": "execute_result"
    }
   ],
   "source": [
    "data.head()"
   ]
  },
  {
   "cell_type": "code",
   "execution_count": 7,
   "id": "481c0f7c",
   "metadata": {},
   "outputs": [
    {
     "data": {
      "text/plain": [
       "(113619, 8)"
      ]
     },
     "execution_count": 7,
     "metadata": {},
     "output_type": "execute_result"
    }
   ],
   "source": [
    "data.shape"
   ]
  },
  {
   "cell_type": "code",
   "execution_count": 8,
   "id": "e9b76acc",
   "metadata": {},
   "outputs": [
    {
     "data": {
      "text/plain": [
       "112394"
      ]
     },
     "execution_count": 8,
     "metadata": {},
     "output_type": "execute_result"
    }
   ],
   "source": [
    "data['content'].nunique()"
   ]
  },
  {
   "cell_type": "code",
   "execution_count": 9,
   "id": "44a62d08",
   "metadata": {},
   "outputs": [
    {
     "name": "stdout",
     "output_type": "stream",
     "text": [
      "<class 'pandas.core.frame.DataFrame'>\n",
      "RangeIndex: 113619 entries, 0 to 113618\n",
      "Data columns (total 8 columns):\n",
      " #   Column                Non-Null Count   Dtype \n",
      "---  ------                --------------   ----- \n",
      " 0   reviewId              113619 non-null  object\n",
      " 1   userName              113617 non-null  object\n",
      " 2   content               113617 non-null  object\n",
      " 3   score                 113619 non-null  int64 \n",
      " 4   thumbsUpCount         113619 non-null  int64 \n",
      " 5   reviewCreatedVersion  96980 non-null   object\n",
      " 6   at                    113619 non-null  object\n",
      " 7   appVersion            96980 non-null   object\n",
      "dtypes: int64(2), object(6)\n",
      "memory usage: 6.9+ MB\n"
     ]
    }
   ],
   "source": [
    "data.info()"
   ]
  },
  {
   "cell_type": "code",
   "execution_count": 10,
   "id": "9d6b0908",
   "metadata": {},
   "outputs": [
    {
     "data": {
      "text/html": [
       "<div>\n",
       "<style scoped>\n",
       "    .dataframe tbody tr th:only-of-type {\n",
       "        vertical-align: middle;\n",
       "    }\n",
       "\n",
       "    .dataframe tbody tr th {\n",
       "        vertical-align: top;\n",
       "    }\n",
       "\n",
       "    .dataframe thead th {\n",
       "        text-align: right;\n",
       "    }\n",
       "</style>\n",
       "<table border=\"1\" class=\"dataframe\">\n",
       "  <thead>\n",
       "    <tr style=\"text-align: right;\">\n",
       "      <th></th>\n",
       "      <th>score</th>\n",
       "      <th>thumbsUpCount</th>\n",
       "    </tr>\n",
       "  </thead>\n",
       "  <tbody>\n",
       "    <tr>\n",
       "      <th>count</th>\n",
       "      <td>113619.000000</td>\n",
       "      <td>113619.000000</td>\n",
       "    </tr>\n",
       "    <tr>\n",
       "      <th>mean</th>\n",
       "      <td>2.812681</td>\n",
       "      <td>10.433924</td>\n",
       "    </tr>\n",
       "    <tr>\n",
       "      <th>std</th>\n",
       "      <td>1.700560</td>\n",
       "      <td>101.009450</td>\n",
       "    </tr>\n",
       "    <tr>\n",
       "      <th>min</th>\n",
       "      <td>1.000000</td>\n",
       "      <td>0.000000</td>\n",
       "    </tr>\n",
       "    <tr>\n",
       "      <th>25%</th>\n",
       "      <td>1.000000</td>\n",
       "      <td>0.000000</td>\n",
       "    </tr>\n",
       "    <tr>\n",
       "      <th>50%</th>\n",
       "      <td>3.000000</td>\n",
       "      <td>0.000000</td>\n",
       "    </tr>\n",
       "    <tr>\n",
       "      <th>75%</th>\n",
       "      <td>5.000000</td>\n",
       "      <td>1.000000</td>\n",
       "    </tr>\n",
       "    <tr>\n",
       "      <th>max</th>\n",
       "      <td>5.000000</td>\n",
       "      <td>8032.000000</td>\n",
       "    </tr>\n",
       "  </tbody>\n",
       "</table>\n",
       "</div>"
      ],
      "text/plain": [
       "               score  thumbsUpCount\n",
       "count  113619.000000  113619.000000\n",
       "mean        2.812681      10.433924\n",
       "std         1.700560     101.009450\n",
       "min         1.000000       0.000000\n",
       "25%         1.000000       0.000000\n",
       "50%         3.000000       0.000000\n",
       "75%         5.000000       1.000000\n",
       "max         5.000000    8032.000000"
      ]
     },
     "execution_count": 10,
     "metadata": {},
     "output_type": "execute_result"
    }
   ],
   "source": [
    "data.describe()"
   ]
  },
  {
   "cell_type": "code",
   "execution_count": 11,
   "id": "565c076d",
   "metadata": {},
   "outputs": [],
   "source": [
    "# there is variation between score & thumbsupcount"
   ]
  },
  {
   "cell_type": "code",
   "execution_count": 12,
   "id": "4a8499b7",
   "metadata": {},
   "outputs": [
    {
     "data": {
      "text/plain": [
       "reviewId                    0\n",
       "userName                    2\n",
       "content                     2\n",
       "score                       0\n",
       "thumbsUpCount               0\n",
       "reviewCreatedVersion    16639\n",
       "at                          0\n",
       "appVersion              16639\n",
       "dtype: int64"
      ]
     },
     "execution_count": 12,
     "metadata": {},
     "output_type": "execute_result"
    }
   ],
   "source": [
    "data.isnull().sum()"
   ]
  },
  {
   "cell_type": "code",
   "execution_count": 13,
   "id": "8bf3622a",
   "metadata": {},
   "outputs": [],
   "source": [
    "# 2 username, 2 content, 16639 reviewcreatedversion, 16639 appversion is missing from dataset"
   ]
  },
  {
   "cell_type": "code",
   "execution_count": 14,
   "id": "d9a90a8f",
   "metadata": {},
   "outputs": [
    {
     "data": {
      "text/plain": [
       "287"
      ]
     },
     "execution_count": 14,
     "metadata": {},
     "output_type": "execute_result"
    }
   ],
   "source": [
    "data.duplicated().sum()"
   ]
  },
  {
   "cell_type": "code",
   "execution_count": 15,
   "id": "a47eb30d",
   "metadata": {},
   "outputs": [],
   "source": [
    "# there are 287 duplicated rows\n",
    "# Lets have a look which are those"
   ]
  },
  {
   "cell_type": "code",
   "execution_count": 16,
   "id": "f0c3a234",
   "metadata": {},
   "outputs": [],
   "source": [
    "# Rempove Duplicate values"
   ]
  },
  {
   "cell_type": "code",
   "execution_count": 17,
   "id": "7a2d4d7f",
   "metadata": {},
   "outputs": [],
   "source": [
    "data = data.drop_duplicates()"
   ]
  },
  {
   "cell_type": "code",
   "execution_count": 18,
   "id": "e5610e49",
   "metadata": {},
   "outputs": [
    {
     "data": {
      "text/plain": [
       "0"
      ]
     },
     "execution_count": 18,
     "metadata": {},
     "output_type": "execute_result"
    }
   ],
   "source": [
    "data.duplicated().sum()"
   ]
  },
  {
   "cell_type": "code",
   "execution_count": 19,
   "id": "a7de72d6",
   "metadata": {},
   "outputs": [],
   "source": [
    "# DATA CLEANING"
   ]
  },
  {
   "cell_type": "code",
   "execution_count": 20,
   "id": "f3565857",
   "metadata": {},
   "outputs": [],
   "source": [
    "# Lets skip the features which do not contribute much in our model preparation\n",
    "\n",
    "data = data[['content','score','thumbsUpCount','at']]"
   ]
  },
  {
   "cell_type": "code",
   "execution_count": 21,
   "id": "995d6251",
   "metadata": {},
   "outputs": [
    {
     "data": {
      "text/plain": [
       "(113332, 4)"
      ]
     },
     "execution_count": 21,
     "metadata": {},
     "output_type": "execute_result"
    }
   ],
   "source": [
    "data.shape"
   ]
  },
  {
   "cell_type": "code",
   "execution_count": 22,
   "id": "0470565a",
   "metadata": {},
   "outputs": [],
   "source": [
    "# Lets fix the missing values-\n",
    "\n",
    "# 1) 2 content are missing lets remove them as the quantity of missing values is very less"
   ]
  },
  {
   "cell_type": "code",
   "execution_count": 23,
   "id": "0481aacd",
   "metadata": {},
   "outputs": [
    {
     "data": {
      "text/html": [
       "<div>\n",
       "<style scoped>\n",
       "    .dataframe tbody tr th:only-of-type {\n",
       "        vertical-align: middle;\n",
       "    }\n",
       "\n",
       "    .dataframe tbody tr th {\n",
       "        vertical-align: top;\n",
       "    }\n",
       "\n",
       "    .dataframe thead th {\n",
       "        text-align: right;\n",
       "    }\n",
       "</style>\n",
       "<table border=\"1\" class=\"dataframe\">\n",
       "  <thead>\n",
       "    <tr style=\"text-align: right;\">\n",
       "      <th></th>\n",
       "      <th>content</th>\n",
       "      <th>score</th>\n",
       "      <th>thumbsUpCount</th>\n",
       "      <th>at</th>\n",
       "    </tr>\n",
       "  </thead>\n",
       "  <tbody>\n",
       "    <tr>\n",
       "      <th>3935</th>\n",
       "      <td>NaN</td>\n",
       "      <td>5</td>\n",
       "      <td>0</td>\n",
       "      <td>2024-05-21 16:56:29</td>\n",
       "    </tr>\n",
       "    <tr>\n",
       "      <th>4286</th>\n",
       "      <td>NaN</td>\n",
       "      <td>2</td>\n",
       "      <td>0</td>\n",
       "      <td>2024-05-19 13:52:42</td>\n",
       "    </tr>\n",
       "  </tbody>\n",
       "</table>\n",
       "</div>"
      ],
      "text/plain": [
       "     content  score  thumbsUpCount                   at\n",
       "3935     NaN      5              0  2024-05-21 16:56:29\n",
       "4286     NaN      2              0  2024-05-19 13:52:42"
      ]
     },
     "execution_count": 23,
     "metadata": {},
     "output_type": "execute_result"
    }
   ],
   "source": [
    "data[data['content'].isnull()]"
   ]
  },
  {
   "cell_type": "code",
   "execution_count": 24,
   "id": "17b253aa",
   "metadata": {},
   "outputs": [
    {
     "data": {
      "text/plain": [
       "(113330, 4)"
      ]
     },
     "execution_count": 24,
     "metadata": {},
     "output_type": "execute_result"
    }
   ],
   "source": [
    "data.drop([3935,4286],axis = 0, inplace = True)\n",
    "\n",
    "data.shape"
   ]
  },
  {
   "cell_type": "code",
   "execution_count": 25,
   "id": "448fc165",
   "metadata": {},
   "outputs": [
    {
     "data": {
      "text/html": [
       "<div>\n",
       "<style scoped>\n",
       "    .dataframe tbody tr th:only-of-type {\n",
       "        vertical-align: middle;\n",
       "    }\n",
       "\n",
       "    .dataframe tbody tr th {\n",
       "        vertical-align: top;\n",
       "    }\n",
       "\n",
       "    .dataframe thead th {\n",
       "        text-align: right;\n",
       "    }\n",
       "</style>\n",
       "<table border=\"1\" class=\"dataframe\">\n",
       "  <thead>\n",
       "    <tr style=\"text-align: right;\">\n",
       "      <th></th>\n",
       "      <th>content</th>\n",
       "      <th>score</th>\n",
       "      <th>thumbsUpCount</th>\n",
       "      <th>at</th>\n",
       "    </tr>\n",
       "  </thead>\n",
       "  <tbody>\n",
       "  </tbody>\n",
       "</table>\n",
       "</div>"
      ],
      "text/plain": [
       "Empty DataFrame\n",
       "Columns: [content, score, thumbsUpCount, at]\n",
       "Index: []"
      ]
     },
     "execution_count": 25,
     "metadata": {},
     "output_type": "execute_result"
    }
   ],
   "source": [
    "data[data['content'].isnull()]"
   ]
  },
  {
   "cell_type": "code",
   "execution_count": 26,
   "id": "200057b8",
   "metadata": {},
   "outputs": [],
   "source": [
    "# Here we found no null values now"
   ]
  },
  {
   "cell_type": "code",
   "execution_count": 27,
   "id": "a3499d2f",
   "metadata": {},
   "outputs": [
    {
     "name": "stdout",
     "output_type": "stream",
     "text": [
      "<class 'pandas.core.frame.DataFrame'>\n",
      "Index: 113330 entries, 0 to 113618\n",
      "Data columns (total 4 columns):\n",
      " #   Column         Non-Null Count   Dtype \n",
      "---  ------         --------------   ----- \n",
      " 0   content        113330 non-null  object\n",
      " 1   score          113330 non-null  int64 \n",
      " 2   thumbsUpCount  113330 non-null  int64 \n",
      " 3   at             113330 non-null  object\n",
      "dtypes: int64(2), object(2)\n",
      "memory usage: 4.3+ MB\n"
     ]
    }
   ],
   "source": [
    "data.info()"
   ]
  },
  {
   "cell_type": "code",
   "execution_count": 28,
   "id": "a7149f47",
   "metadata": {},
   "outputs": [
    {
     "name": "stdout",
     "output_type": "stream",
     "text": [
      "[5 2 1 4 3]\n",
      "   \n",
      "8032\n"
     ]
    }
   ],
   "source": [
    "print(data['score'].unique())\n",
    "print(\"   \")\n",
    "print(data['thumbsUpCount'].max())"
   ]
  },
  {
   "cell_type": "code",
   "execution_count": 29,
   "id": "11eb4775",
   "metadata": {},
   "outputs": [],
   "source": [
    "# here we see values of score ranges b/w 1 & 5, therefore it doesn't require int64 to store the values \n",
    "# we can reduce for for the sake of memory, similarly with thumbsupcount\n",
    "\n",
    "# int64 is used to store large values\n",
    "\n",
    "# >int16 : -32768 to +32767\n",
    "# >int32 : -2147483648 to +2147483647\n",
    "# >int64 : -9,223,372,036,854,775,808 to +9,223,372,036,854,775,807"
   ]
  },
  {
   "cell_type": "code",
   "execution_count": 30,
   "id": "d4d8b742",
   "metadata": {},
   "outputs": [],
   "source": [
    "data = data.astype({\n",
    "    \"score\" : 'int16',\n",
    "    'thumbsUpCount' : 'int16'\n",
    "})"
   ]
  },
  {
   "cell_type": "code",
   "execution_count": 31,
   "id": "99ea5bdc",
   "metadata": {},
   "outputs": [
    {
     "name": "stdout",
     "output_type": "stream",
     "text": [
      "<class 'pandas.core.frame.DataFrame'>\n",
      "Index: 113330 entries, 0 to 113618\n",
      "Data columns (total 4 columns):\n",
      " #   Column         Non-Null Count   Dtype \n",
      "---  ------         --------------   ----- \n",
      " 0   content        113330 non-null  object\n",
      " 1   score          113330 non-null  int16 \n",
      " 2   thumbsUpCount  113330 non-null  int16 \n",
      " 3   at             113330 non-null  object\n",
      "dtypes: int16(2), object(2)\n",
      "memory usage: 3.0+ MB\n"
     ]
    }
   ],
   "source": [
    "data.info()"
   ]
  },
  {
   "cell_type": "code",
   "execution_count": 32,
   "id": "56996267",
   "metadata": {},
   "outputs": [],
   "source": [
    "# Here we see the memomry usage decreased\n",
    "\n",
    "# We can notice the datatype of 'at' feature is object type, we should convert it into datetime to extract it properly"
   ]
  },
  {
   "cell_type": "code",
   "execution_count": 33,
   "id": "19f70b64",
   "metadata": {},
   "outputs": [],
   "source": [
    "data['at'] = pd.to_datetime(data['at'])"
   ]
  },
  {
   "cell_type": "code",
   "execution_count": 34,
   "id": "5ae245e6",
   "metadata": {},
   "outputs": [
    {
     "name": "stdout",
     "output_type": "stream",
     "text": [
      "                       content  score  thumbsUpCount                  at\n",
      "0  I love 💕💕 to download it,,😭      5              0 2024-07-07 17:47:19\n",
      "1                  Exceptional      5              1 2024-07-07 12:31:53\n",
      "--------------------------------\n",
      "<class 'pandas.core.frame.DataFrame'>\n",
      "Index: 113330 entries, 0 to 113618\n",
      "Data columns (total 4 columns):\n",
      " #   Column         Non-Null Count   Dtype         \n",
      "---  ------         --------------   -----         \n",
      " 0   content        113330 non-null  object        \n",
      " 1   score          113330 non-null  int16         \n",
      " 2   thumbsUpCount  113330 non-null  int16         \n",
      " 3   at             113330 non-null  datetime64[ns]\n",
      "dtypes: datetime64[ns](1), int16(2), object(1)\n",
      "memory usage: 3.0+ MB\n"
     ]
    }
   ],
   "source": [
    "print(data.head(2))\n",
    "print(\"--------------------------------\")\n",
    "\n",
    "data.info()"
   ]
  },
  {
   "cell_type": "code",
   "execution_count": 35,
   "id": "9e464f0c",
   "metadata": {},
   "outputs": [
    {
     "data": {
      "text/plain": [
       "content          0\n",
       "score            0\n",
       "thumbsUpCount    0\n",
       "at               0\n",
       "dtype: int64"
      ]
     },
     "execution_count": 35,
     "metadata": {},
     "output_type": "execute_result"
    }
   ],
   "source": [
    "data.isnull().sum()"
   ]
  },
  {
   "cell_type": "code",
   "execution_count": 36,
   "id": "985e2d93",
   "metadata": {},
   "outputs": [
    {
     "data": {
      "text/html": [
       "<div>\n",
       "<style scoped>\n",
       "    .dataframe tbody tr th:only-of-type {\n",
       "        vertical-align: middle;\n",
       "    }\n",
       "\n",
       "    .dataframe tbody tr th {\n",
       "        vertical-align: top;\n",
       "    }\n",
       "\n",
       "    .dataframe thead th {\n",
       "        text-align: right;\n",
       "    }\n",
       "</style>\n",
       "<table border=\"1\" class=\"dataframe\">\n",
       "  <thead>\n",
       "    <tr style=\"text-align: right;\">\n",
       "      <th></th>\n",
       "      <th>content</th>\n",
       "      <th>score</th>\n",
       "      <th>thumbsUpCount</th>\n",
       "      <th>at</th>\n",
       "    </tr>\n",
       "  </thead>\n",
       "  <tbody>\n",
       "    <tr>\n",
       "      <th>0</th>\n",
       "      <td>I love 💕💕 to download it,,😭</td>\n",
       "      <td>5</td>\n",
       "      <td>0</td>\n",
       "      <td>2024-07-07 17:47:19</td>\n",
       "    </tr>\n",
       "    <tr>\n",
       "      <th>1</th>\n",
       "      <td>Exceptional</td>\n",
       "      <td>5</td>\n",
       "      <td>1</td>\n",
       "      <td>2024-07-07 12:31:53</td>\n",
       "    </tr>\n",
       "    <tr>\n",
       "      <th>2</th>\n",
       "      <td>Can't even make it through a full episode of a...</td>\n",
       "      <td>2</td>\n",
       "      <td>2</td>\n",
       "      <td>2024-07-07 05:21:45</td>\n",
       "    </tr>\n",
       "    <tr>\n",
       "      <th>3</th>\n",
       "      <td>Great</td>\n",
       "      <td>5</td>\n",
       "      <td>0</td>\n",
       "      <td>2024-07-06 19:47:34</td>\n",
       "    </tr>\n",
       "    <tr>\n",
       "      <th>4</th>\n",
       "      <td>Your device is not part of the Netflix Househo...</td>\n",
       "      <td>1</td>\n",
       "      <td>0</td>\n",
       "      <td>2024-07-05 17:09:39</td>\n",
       "    </tr>\n",
       "  </tbody>\n",
       "</table>\n",
       "</div>"
      ],
      "text/plain": [
       "                                             content  score  thumbsUpCount  \\\n",
       "0                        I love 💕💕 to download it,,😭      5              0   \n",
       "1                                        Exceptional      5              1   \n",
       "2  Can't even make it through a full episode of a...      2              2   \n",
       "3                                              Great      5              0   \n",
       "4  Your device is not part of the Netflix Househo...      1              0   \n",
       "\n",
       "                   at  \n",
       "0 2024-07-07 17:47:19  \n",
       "1 2024-07-07 12:31:53  \n",
       "2 2024-07-07 05:21:45  \n",
       "3 2024-07-06 19:47:34  \n",
       "4 2024-07-05 17:09:39  "
      ]
     },
     "execution_count": 36,
     "metadata": {},
     "output_type": "execute_result"
    }
   ],
   "source": [
    "data.head()"
   ]
  },
  {
   "cell_type": "code",
   "execution_count": 37,
   "id": "09b71cd7",
   "metadata": {},
   "outputs": [
    {
     "data": {
      "text/plain": [
       "Timestamp('2018-09-12 07:22:12')"
      ]
     },
     "execution_count": 37,
     "metadata": {},
     "output_type": "execute_result"
    }
   ],
   "source": [
    "data['at'].min()"
   ]
  },
  {
   "cell_type": "code",
   "execution_count": 38,
   "id": "54e9aa19",
   "metadata": {},
   "outputs": [],
   "source": [
    "# lets create a seperate column for date and time"
   ]
  },
  {
   "cell_type": "code",
   "execution_count": 39,
   "id": "9a8ae8fb",
   "metadata": {},
   "outputs": [],
   "source": [
    "data['at'] = data['at'].dt.strftime('%Y')"
   ]
  },
  {
   "cell_type": "code",
   "execution_count": 40,
   "id": "594df012",
   "metadata": {},
   "outputs": [
    {
     "data": {
      "text/html": [
       "<div>\n",
       "<style scoped>\n",
       "    .dataframe tbody tr th:only-of-type {\n",
       "        vertical-align: middle;\n",
       "    }\n",
       "\n",
       "    .dataframe tbody tr th {\n",
       "        vertical-align: top;\n",
       "    }\n",
       "\n",
       "    .dataframe thead th {\n",
       "        text-align: right;\n",
       "    }\n",
       "</style>\n",
       "<table border=\"1\" class=\"dataframe\">\n",
       "  <thead>\n",
       "    <tr style=\"text-align: right;\">\n",
       "      <th></th>\n",
       "      <th>content</th>\n",
       "      <th>score</th>\n",
       "      <th>thumbsUpCount</th>\n",
       "      <th>at</th>\n",
       "    </tr>\n",
       "  </thead>\n",
       "  <tbody>\n",
       "    <tr>\n",
       "      <th>0</th>\n",
       "      <td>I love 💕💕 to download it,,😭</td>\n",
       "      <td>5</td>\n",
       "      <td>0</td>\n",
       "      <td>2024</td>\n",
       "    </tr>\n",
       "    <tr>\n",
       "      <th>1</th>\n",
       "      <td>Exceptional</td>\n",
       "      <td>5</td>\n",
       "      <td>1</td>\n",
       "      <td>2024</td>\n",
       "    </tr>\n",
       "    <tr>\n",
       "      <th>2</th>\n",
       "      <td>Can't even make it through a full episode of a...</td>\n",
       "      <td>2</td>\n",
       "      <td>2</td>\n",
       "      <td>2024</td>\n",
       "    </tr>\n",
       "    <tr>\n",
       "      <th>3</th>\n",
       "      <td>Great</td>\n",
       "      <td>5</td>\n",
       "      <td>0</td>\n",
       "      <td>2024</td>\n",
       "    </tr>\n",
       "    <tr>\n",
       "      <th>4</th>\n",
       "      <td>Your device is not part of the Netflix Househo...</td>\n",
       "      <td>1</td>\n",
       "      <td>0</td>\n",
       "      <td>2024</td>\n",
       "    </tr>\n",
       "  </tbody>\n",
       "</table>\n",
       "</div>"
      ],
      "text/plain": [
       "                                             content  score  thumbsUpCount  \\\n",
       "0                        I love 💕💕 to download it,,😭      5              0   \n",
       "1                                        Exceptional      5              1   \n",
       "2  Can't even make it through a full episode of a...      2              2   \n",
       "3                                              Great      5              0   \n",
       "4  Your device is not part of the Netflix Househo...      1              0   \n",
       "\n",
       "     at  \n",
       "0  2024  \n",
       "1  2024  \n",
       "2  2024  \n",
       "3  2024  \n",
       "4  2024  "
      ]
     },
     "execution_count": 40,
     "metadata": {},
     "output_type": "execute_result"
    }
   ],
   "source": [
    "data.head()"
   ]
  },
  {
   "cell_type": "code",
   "execution_count": 41,
   "id": "2e3d19e3",
   "metadata": {},
   "outputs": [
    {
     "name": "stdout",
     "output_type": "stream",
     "text": [
      "<class 'pandas.core.frame.DataFrame'>\n",
      "Index: 113330 entries, 0 to 113618\n",
      "Data columns (total 4 columns):\n",
      " #   Column         Non-Null Count   Dtype \n",
      "---  ------         --------------   ----- \n",
      " 0   content        113330 non-null  object\n",
      " 1   score          113330 non-null  int16 \n",
      " 2   thumbsUpCount  113330 non-null  int16 \n",
      " 3   at             113330 non-null  object\n",
      "dtypes: int16(2), object(2)\n",
      "memory usage: 3.0+ MB\n"
     ]
    }
   ],
   "source": [
    "data.info()"
   ]
  },
  {
   "cell_type": "code",
   "execution_count": 42,
   "id": "f1bc67b4",
   "metadata": {},
   "outputs": [],
   "source": [
    "data.rename(columns= {'at':\"Year\",\n",
    "                     'thumbsUpCount' : 'likes',\n",
    "                     'content' : 'Reviews'},inplace = True)"
   ]
  },
  {
   "cell_type": "code",
   "execution_count": 43,
   "id": "f1c93b76",
   "metadata": {},
   "outputs": [
    {
     "data": {
      "text/plain": [
       "795"
      ]
     },
     "execution_count": 43,
     "metadata": {},
     "output_type": "execute_result"
    }
   ],
   "source": [
    "data.duplicated().sum()"
   ]
  },
  {
   "cell_type": "code",
   "execution_count": 44,
   "id": "b48e7fd7",
   "metadata": {},
   "outputs": [],
   "source": [
    "data = data.drop_duplicates()"
   ]
  },
  {
   "cell_type": "code",
   "execution_count": 45,
   "id": "16cca21a",
   "metadata": {},
   "outputs": [
    {
     "data": {
      "text/plain": [
       "0"
      ]
     },
     "execution_count": 45,
     "metadata": {},
     "output_type": "execute_result"
    }
   ],
   "source": [
    "data.duplicated().sum()"
   ]
  },
  {
   "cell_type": "markdown",
   "id": "e3f17714",
   "metadata": {},
   "source": [
    "### DATA PREPROCESSING"
   ]
  },
  {
   "cell_type": "markdown",
   "id": "f006e373",
   "metadata": {},
   "source": [
    "#### Lets create a target variable say Positive, negative, neutral or happy, sad & neutral"
   ]
  },
  {
   "cell_type": "code",
   "execution_count": 46,
   "id": "06c7e400",
   "metadata": {},
   "outputs": [],
   "source": [
    "def target_variable(rating):\n",
    "    if rating >= 4:\n",
    "        return 0\n",
    "    elif rating == 3:\n",
    "        return 1\n",
    "    else:\n",
    "        return 2"
   ]
  },
  {
   "cell_type": "code",
   "execution_count": 47,
   "id": "d631ada7",
   "metadata": {},
   "outputs": [],
   "source": [
    "data['Emotion'] = data['score'].apply(target_variable)"
   ]
  },
  {
   "cell_type": "code",
   "execution_count": 48,
   "id": "e90fa854",
   "metadata": {},
   "outputs": [
    {
     "data": {
      "text/html": [
       "<div>\n",
       "<style scoped>\n",
       "    .dataframe tbody tr th:only-of-type {\n",
       "        vertical-align: middle;\n",
       "    }\n",
       "\n",
       "    .dataframe tbody tr th {\n",
       "        vertical-align: top;\n",
       "    }\n",
       "\n",
       "    .dataframe thead th {\n",
       "        text-align: right;\n",
       "    }\n",
       "</style>\n",
       "<table border=\"1\" class=\"dataframe\">\n",
       "  <thead>\n",
       "    <tr style=\"text-align: right;\">\n",
       "      <th></th>\n",
       "      <th>Reviews</th>\n",
       "      <th>score</th>\n",
       "      <th>likes</th>\n",
       "      <th>Year</th>\n",
       "      <th>Emotion</th>\n",
       "    </tr>\n",
       "  </thead>\n",
       "  <tbody>\n",
       "    <tr>\n",
       "      <th>0</th>\n",
       "      <td>I love 💕💕 to download it,,😭</td>\n",
       "      <td>5</td>\n",
       "      <td>0</td>\n",
       "      <td>2024</td>\n",
       "      <td>0</td>\n",
       "    </tr>\n",
       "    <tr>\n",
       "      <th>1</th>\n",
       "      <td>Exceptional</td>\n",
       "      <td>5</td>\n",
       "      <td>1</td>\n",
       "      <td>2024</td>\n",
       "      <td>0</td>\n",
       "    </tr>\n",
       "    <tr>\n",
       "      <th>2</th>\n",
       "      <td>Can't even make it through a full episode of a...</td>\n",
       "      <td>2</td>\n",
       "      <td>2</td>\n",
       "      <td>2024</td>\n",
       "      <td>2</td>\n",
       "    </tr>\n",
       "    <tr>\n",
       "      <th>3</th>\n",
       "      <td>Great</td>\n",
       "      <td>5</td>\n",
       "      <td>0</td>\n",
       "      <td>2024</td>\n",
       "      <td>0</td>\n",
       "    </tr>\n",
       "    <tr>\n",
       "      <th>4</th>\n",
       "      <td>Your device is not part of the Netflix Househo...</td>\n",
       "      <td>1</td>\n",
       "      <td>0</td>\n",
       "      <td>2024</td>\n",
       "      <td>2</td>\n",
       "    </tr>\n",
       "  </tbody>\n",
       "</table>\n",
       "</div>"
      ],
      "text/plain": [
       "                                             Reviews  score  likes  Year  \\\n",
       "0                        I love 💕💕 to download it,,😭      5      0  2024   \n",
       "1                                        Exceptional      5      1  2024   \n",
       "2  Can't even make it through a full episode of a...      2      2  2024   \n",
       "3                                              Great      5      0  2024   \n",
       "4  Your device is not part of the Netflix Househo...      1      0  2024   \n",
       "\n",
       "   Emotion  \n",
       "0        0  \n",
       "1        0  \n",
       "2        2  \n",
       "3        0  \n",
       "4        2  "
      ]
     },
     "execution_count": 48,
     "metadata": {},
     "output_type": "execute_result"
    }
   ],
   "source": [
    "data.head()"
   ]
  },
  {
   "cell_type": "code",
   "execution_count": 49,
   "id": "8d043abc",
   "metadata": {},
   "outputs": [],
   "source": [
    "# here 0 represent positve/Happy\n",
    "# 1 represent neutral\n",
    "# 2 represent negative/sad"
   ]
  },
  {
   "cell_type": "markdown",
   "id": "6e8ab630",
   "metadata": {},
   "source": [
    "### TEXT PREPROCESSING"
   ]
  },
  {
   "cell_type": "raw",
   "id": "9165c987",
   "metadata": {},
   "source": [
    "# Text cleaning is important task one should do.\n",
    "# what type of cleaning we requires\n",
    "# >Emoji removal\n",
    "# >Puncuations removal\n",
    "# >Spellings\n",
    "# >Stopwords removal\n",
    "# >Non-English words (ex. bhot badia, mahshaaalah etc.)\n",
    "# >repetation of single word (ex. waaoo waaoo waaoo , bad bad bad)\n",
    "# >emoticons removal\n",
    "# >word contraction (ex.I’ll be there within 5 min. Are u not gng there? Am I mssng out on smthng?)\n",
    "# >removal of html tags(ex. <>/^ etc.)"
   ]
  },
  {
   "cell_type": "code",
   "execution_count": 50,
   "id": "d4dbba85",
   "metadata": {},
   "outputs": [
    {
     "data": {
      "text/plain": [
       "\"game is on :) i'll be there hwvr\""
      ]
     },
     "execution_count": 50,
     "metadata": {},
     "output_type": "execute_result"
    }
   ],
   "source": [
    "def remove_emoji(string):\n",
    "    emoji_pattern = re.compile(\"[\"\n",
    "                               u\"\\U0001F600-\\U0001F64F\"  # emoticons\n",
    "                               u\"\\U0001F300-\\U0001F5FF\"  # symbols & pictographs\n",
    "                               u\"\\U0001F680-\\U0001F6FF\"  # transport & map symbols\n",
    "                               u\"\\U0001F1E0-\\U0001F1FF\"  # flags (iOS)\n",
    "                               u\"\\U00002500-\\U00002BEF\"  # chinese char\n",
    "                               \"]+\", flags=re.UNICODE)\n",
    "    return emoji_pattern.sub(r'', string)\n",
    "\n",
    "remove_emoji(\"game is on :) i'll be there hwvr🔥🔥\")"
   ]
  },
  {
   "cell_type": "code",
   "execution_count": 51,
   "id": "a255064f",
   "metadata": {},
   "outputs": [],
   "source": [
    "# !pip install contractions\n",
    "# nltk.download('stopwords')"
   ]
  },
  {
   "cell_type": "code",
   "execution_count": 53,
   "id": "0f49b781",
   "metadata": {},
   "outputs": [],
   "source": [
    "# So lets now preporocess the text\n",
    "from nltk.stem import PorterStemmer\n",
    "ps = PorterStemmer()\n",
    "\n",
    "# Lemmatization generates the root form of word in meaningful word while stemming just reduces the word to its stem,\n",
    "# it may or may not be meaningful.\n",
    "# For speed we'll go with stemming also as we dont have to build any language specific model stemming \n",
    "# is best to be used in this case"
   ]
  },
  {
   "cell_type": "code",
   "execution_count": 54,
   "id": "a97548db",
   "metadata": {},
   "outputs": [],
   "source": [
    "def text_preprocessing(review):\n",
    "    # html tag removal\n",
    "    review = re.compile(r'<[^>]+>').sub('', review)\n",
    "    # convert to lowercase\n",
    "    review = review.lower()\n",
    "    # punctuations removal\n",
    "    review = review.translate(str.maketrans('','', string.punctuation))\n",
    "    # deal with contractions\n",
    "    review = contractions.fix(review)\n",
    "    # remove digits\n",
    "    review = ''.join([i for i in review if not i.isdigit()])\n",
    "    # remove stopwords\n",
    "    review = ' '.join([word for word in review.split() if word not in (stopwords.words('english'))])\n",
    "    # stemming\n",
    "    review = review.split()\n",
    "    words = []\n",
    "    for word in review:\n",
    "        words.append(ps.stem(word))\n",
    "    review = ' '.join(words)\n",
    "    # remove emoji\n",
    "    review = remove_emoji(review)\n",
    "    #remove extra space\n",
    "    review = ' '.join(review.split())\n",
    "    return review"
   ]
  },
  {
   "cell_type": "code",
   "execution_count": 55,
   "id": "1c55a186",
   "metadata": {
    "scrolled": false
   },
   "outputs": [],
   "source": [
    "data['Reviews'] = data['Reviews'].apply(text_preprocessing)"
   ]
  },
  {
   "cell_type": "code",
   "execution_count": 56,
   "id": "286a75a5",
   "metadata": {},
   "outputs": [
    {
     "data": {
      "text/html": [
       "<div>\n",
       "<style scoped>\n",
       "    .dataframe tbody tr th:only-of-type {\n",
       "        vertical-align: middle;\n",
       "    }\n",
       "\n",
       "    .dataframe tbody tr th {\n",
       "        vertical-align: top;\n",
       "    }\n",
       "\n",
       "    .dataframe thead th {\n",
       "        text-align: right;\n",
       "    }\n",
       "</style>\n",
       "<table border=\"1\" class=\"dataframe\">\n",
       "  <thead>\n",
       "    <tr style=\"text-align: right;\">\n",
       "      <th></th>\n",
       "      <th>Reviews</th>\n",
       "      <th>score</th>\n",
       "      <th>likes</th>\n",
       "      <th>Year</th>\n",
       "      <th>Emotion</th>\n",
       "    </tr>\n",
       "  </thead>\n",
       "  <tbody>\n",
       "    <tr>\n",
       "      <th>0</th>\n",
       "      <td>love download it</td>\n",
       "      <td>5</td>\n",
       "      <td>0</td>\n",
       "      <td>2024</td>\n",
       "      <td>0</td>\n",
       "    </tr>\n",
       "    <tr>\n",
       "      <th>1</th>\n",
       "      <td>except</td>\n",
       "      <td>5</td>\n",
       "      <td>1</td>\n",
       "      <td>2024</td>\n",
       "      <td>0</td>\n",
       "    </tr>\n",
       "    <tr>\n",
       "      <th>2</th>\n",
       "      <td>cannot even make full episod show app crash cl...</td>\n",
       "      <td>2</td>\n",
       "      <td>2</td>\n",
       "      <td>2024</td>\n",
       "      <td>2</td>\n",
       "    </tr>\n",
       "    <tr>\n",
       "      <th>3</th>\n",
       "      <td>great</td>\n",
       "      <td>5</td>\n",
       "      <td>0</td>\n",
       "      <td>2024</td>\n",
       "      <td>0</td>\n",
       "    </tr>\n",
       "    <tr>\n",
       "      <th>4</th>\n",
       "      <td>devic part netflix household good polic way ev...</td>\n",
       "      <td>1</td>\n",
       "      <td>0</td>\n",
       "      <td>2024</td>\n",
       "      <td>2</td>\n",
       "    </tr>\n",
       "  </tbody>\n",
       "</table>\n",
       "</div>"
      ],
      "text/plain": [
       "                                             Reviews  score  likes  Year  \\\n",
       "0                                   love download it      5      0  2024   \n",
       "1                                             except      5      1  2024   \n",
       "2  cannot even make full episod show app crash cl...      2      2  2024   \n",
       "3                                              great      5      0  2024   \n",
       "4  devic part netflix household good polic way ev...      1      0  2024   \n",
       "\n",
       "   Emotion  \n",
       "0        0  \n",
       "1        0  \n",
       "2        2  \n",
       "3        0  \n",
       "4        2  "
      ]
     },
     "execution_count": 56,
     "metadata": {},
     "output_type": "execute_result"
    }
   ],
   "source": [
    "data.head()"
   ]
  },
  {
   "cell_type": "markdown",
   "id": "62b22a72",
   "metadata": {},
   "source": [
    "### Visualization"
   ]
  },
  {
   "cell_type": "code",
   "execution_count": 57,
   "id": "0b4ec16b",
   "metadata": {
    "scrolled": true
   },
   "outputs": [
    {
     "data": {
      "text/plain": [
       "Year\n",
       "2020    28567\n",
       "2021    17737\n",
       "2019    16878\n",
       "2024    16574\n",
       "2022    15125\n",
       "2023    12852\n",
       "2018     4802\n",
       "Name: count, dtype: int64"
      ]
     },
     "execution_count": 57,
     "metadata": {},
     "output_type": "execute_result"
    }
   ],
   "source": [
    "data['Year'].value_counts()"
   ]
  },
  {
   "cell_type": "code",
   "execution_count": 58,
   "id": "af0390a1",
   "metadata": {},
   "outputs": [
    {
     "data": {
      "image/png": "[encoded data removed]",
      "text/plain": [
       "<Figure size 1500x1000 with 1 Axes>"
      ]
     },
     "metadata": {},
     "output_type": "display_data"
    }
   ],
   "source": [
    "plt.figure(figsize=(15,10))\n",
    "temp_data = data[['Year','Emotion']].sort_values(by='Year')\n",
    "plot = sns.countplot(data=temp_data, x='Year', hue='Emotion', width=0.7, palette=['red', 'orange', 'green'])\n",
    "plot.legend(title='Emotions', labels=['Happy', 'Neutral', 'Sad'])\n",
    "plt.title('Yearly Report')\n",
    "plt.show()"
   ]
  },
  {
   "cell_type": "code",
   "execution_count": 59,
   "id": "3eb3d7ae",
   "metadata": {},
   "outputs": [
    {
     "data": {
      "text/plain": [
       "Emotion\n",
       "2    55170\n",
       "0    45435\n",
       "1    11930\n",
       "Name: count, dtype: int64"
      ]
     },
     "execution_count": 59,
     "metadata": {},
     "output_type": "execute_result"
    }
   ],
   "source": [
    "data['Emotion'].value_counts()"
   ]
  },
  {
   "cell_type": "code",
   "execution_count": 60,
   "id": "79abe626",
   "metadata": {},
   "outputs": [
    {
     "data": {
      "image/png": "[encoded data removed]",
      "text/plain": [
       "<Figure size 640x480 with 1 Axes>"
      ]
     },
     "metadata": {},
     "output_type": "display_data"
    }
   ],
   "source": [
    "plot_1 = sns.countplot(x= 'Emotion', data = data)\n",
    "# plot_1.legend(title='Emotions', labels=['Happy', 'Neutral', 'Sad'])\n",
    "plt.title('Emotions frequency')\n",
    "plt.show()"
   ]
  },
  {
   "cell_type": "code",
   "execution_count": 61,
   "id": "fc1fb803",
   "metadata": {},
   "outputs": [],
   "source": [
    "#Data Preprocessing"
   ]
  },
  {
   "cell_type": "code",
   "execution_count": 62,
   "id": "ff456eae",
   "metadata": {},
   "outputs": [],
   "source": [
    "x = data.drop(['Emotion','Year'], axis = 1)\n",
    "y = data['Emotion']"
   ]
  },
  {
   "cell_type": "code",
   "execution_count": 63,
   "id": "2b79decd",
   "metadata": {},
   "outputs": [
    {
     "name": "stdout",
     "output_type": "stream",
     "text": [
      "x_shape:  (112535, 3) y_shape:  (112535,)\n"
     ]
    }
   ],
   "source": [
    "print('x_shape: ',x.shape, 'y_shape: ',y.shape)"
   ]
  },
  {
   "cell_type": "code",
   "execution_count": 64,
   "id": "4320bead",
   "metadata": {},
   "outputs": [
    {
     "data": {
      "text/html": [
       "<div>\n",
       "<style scoped>\n",
       "    .dataframe tbody tr th:only-of-type {\n",
       "        vertical-align: middle;\n",
       "    }\n",
       "\n",
       "    .dataframe tbody tr th {\n",
       "        vertical-align: top;\n",
       "    }\n",
       "\n",
       "    .dataframe thead th {\n",
       "        text-align: right;\n",
       "    }\n",
       "</style>\n",
       "<table border=\"1\" class=\"dataframe\">\n",
       "  <thead>\n",
       "    <tr style=\"text-align: right;\">\n",
       "      <th></th>\n",
       "      <th>Reviews</th>\n",
       "      <th>score</th>\n",
       "      <th>likes</th>\n",
       "    </tr>\n",
       "  </thead>\n",
       "  <tbody>\n",
       "    <tr>\n",
       "      <th>0</th>\n",
       "      <td>love download it</td>\n",
       "      <td>5</td>\n",
       "      <td>0</td>\n",
       "    </tr>\n",
       "    <tr>\n",
       "      <th>1</th>\n",
       "      <td>except</td>\n",
       "      <td>5</td>\n",
       "      <td>1</td>\n",
       "    </tr>\n",
       "    <tr>\n",
       "      <th>2</th>\n",
       "      <td>cannot even make full episod show app crash cl...</td>\n",
       "      <td>2</td>\n",
       "      <td>2</td>\n",
       "    </tr>\n",
       "    <tr>\n",
       "      <th>3</th>\n",
       "      <td>great</td>\n",
       "      <td>5</td>\n",
       "      <td>0</td>\n",
       "    </tr>\n",
       "    <tr>\n",
       "      <th>4</th>\n",
       "      <td>devic part netflix household good polic way ev...</td>\n",
       "      <td>1</td>\n",
       "      <td>0</td>\n",
       "    </tr>\n",
       "  </tbody>\n",
       "</table>\n",
       "</div>"
      ],
      "text/plain": [
       "                                             Reviews  score  likes\n",
       "0                                   love download it      5      0\n",
       "1                                             except      5      1\n",
       "2  cannot even make full episod show app crash cl...      2      2\n",
       "3                                              great      5      0\n",
       "4  devic part netflix household good polic way ev...      1      0"
      ]
     },
     "execution_count": 64,
     "metadata": {},
     "output_type": "execute_result"
    }
   ],
   "source": [
    "x.head()"
   ]
  },
  {
   "cell_type": "code",
   "execution_count": 65,
   "id": "02c02164",
   "metadata": {},
   "outputs": [],
   "source": [
    "from sklearn.model_selection import train_test_split\n",
    "x_train,x_test, y_train,y_test = train_test_split(x,y,test_size = 0.20, random_state = 24) "
   ]
  },
  {
   "cell_type": "code",
   "execution_count": 66,
   "id": "eecc19fd",
   "metadata": {},
   "outputs": [
    {
     "name": "stdout",
     "output_type": "stream",
     "text": [
      "x_train:  (90028, 3) x_test:  (22507, 3)\n",
      "y_train:  (90028,) y_test:  (22507,)\n"
     ]
    }
   ],
   "source": [
    "print('x_train: ',x_train.shape, 'x_test: ',x_test.shape)\n",
    "\n",
    "print('y_train: ',y_train.shape, 'y_test: ',y_test.shape)"
   ]
  },
  {
   "cell_type": "code",
   "execution_count": 67,
   "id": "925a1a60",
   "metadata": {},
   "outputs": [
    {
     "data": {
      "text/html": [
       "<div>\n",
       "<style scoped>\n",
       "    .dataframe tbody tr th:only-of-type {\n",
       "        vertical-align: middle;\n",
       "    }\n",
       "\n",
       "    .dataframe tbody tr th {\n",
       "        vertical-align: top;\n",
       "    }\n",
       "\n",
       "    .dataframe thead th {\n",
       "        text-align: right;\n",
       "    }\n",
       "</style>\n",
       "<table border=\"1\" class=\"dataframe\">\n",
       "  <thead>\n",
       "    <tr style=\"text-align: right;\">\n",
       "      <th></th>\n",
       "      <th>Reviews</th>\n",
       "      <th>score</th>\n",
       "      <th>likes</th>\n",
       "    </tr>\n",
       "  </thead>\n",
       "  <tbody>\n",
       "    <tr>\n",
       "      <th>92654</th>\n",
       "      <td>cannot minim multitask turn screen</td>\n",
       "      <td>1</td>\n",
       "      <td>0</td>\n",
       "    </tr>\n",
       "    <tr>\n",
       "      <th>1965</th>\n",
       "      <td>poor respond</td>\n",
       "      <td>1</td>\n",
       "      <td>0</td>\n",
       "    </tr>\n",
       "    <tr>\n",
       "      <th>104564</th>\n",
       "      <td>sinc pay netflix good movi pay</td>\n",
       "      <td>5</td>\n",
       "      <td>0</td>\n",
       "    </tr>\n",
       "    <tr>\n",
       "      <th>103477</th>\n",
       "      <td>excel content stream</td>\n",
       "      <td>5</td>\n",
       "      <td>0</td>\n",
       "    </tr>\n",
       "    <tr>\n",
       "      <th>109077</th>\n",
       "      <td>goumd lot good show suppley thing interest dwindl</td>\n",
       "      <td>5</td>\n",
       "      <td>0</td>\n",
       "    </tr>\n",
       "  </tbody>\n",
       "</table>\n",
       "</div>"
      ],
      "text/plain": [
       "                                                  Reviews  score  likes\n",
       "92654                  cannot minim multitask turn screen      1      0\n",
       "1965                                         poor respond      1      0\n",
       "104564                     sinc pay netflix good movi pay      5      0\n",
       "103477                               excel content stream      5      0\n",
       "109077  goumd lot good show suppley thing interest dwindl      5      0"
      ]
     },
     "execution_count": 67,
     "metadata": {},
     "output_type": "execute_result"
    }
   ],
   "source": [
    "x_test.head()"
   ]
  },
  {
   "cell_type": "code",
   "execution_count": 68,
   "id": "2ad1e448",
   "metadata": {},
   "outputs": [
    {
     "data": {
      "text/html": [
       "<div>\n",
       "<style scoped>\n",
       "    .dataframe tbody tr th:only-of-type {\n",
       "        vertical-align: middle;\n",
       "    }\n",
       "\n",
       "    .dataframe tbody tr th {\n",
       "        vertical-align: top;\n",
       "    }\n",
       "\n",
       "    .dataframe thead th {\n",
       "        text-align: right;\n",
       "    }\n",
       "</style>\n",
       "<table border=\"1\" class=\"dataframe\">\n",
       "  <thead>\n",
       "    <tr style=\"text-align: right;\">\n",
       "      <th></th>\n",
       "      <th>score</th>\n",
       "      <th>likes</th>\n",
       "    </tr>\n",
       "  </thead>\n",
       "  <tbody>\n",
       "    <tr>\n",
       "      <th>count</th>\n",
       "      <td>90028.000000</td>\n",
       "      <td>90028.000000</td>\n",
       "    </tr>\n",
       "    <tr>\n",
       "      <th>mean</th>\n",
       "      <td>2.804017</td>\n",
       "      <td>10.724686</td>\n",
       "    </tr>\n",
       "    <tr>\n",
       "      <th>std</th>\n",
       "      <td>1.698045</td>\n",
       "      <td>103.788014</td>\n",
       "    </tr>\n",
       "    <tr>\n",
       "      <th>min</th>\n",
       "      <td>1.000000</td>\n",
       "      <td>0.000000</td>\n",
       "    </tr>\n",
       "    <tr>\n",
       "      <th>25%</th>\n",
       "      <td>1.000000</td>\n",
       "      <td>0.000000</td>\n",
       "    </tr>\n",
       "    <tr>\n",
       "      <th>50%</th>\n",
       "      <td>3.000000</td>\n",
       "      <td>0.000000</td>\n",
       "    </tr>\n",
       "    <tr>\n",
       "      <th>75%</th>\n",
       "      <td>5.000000</td>\n",
       "      <td>1.000000</td>\n",
       "    </tr>\n",
       "    <tr>\n",
       "      <th>max</th>\n",
       "      <td>5.000000</td>\n",
       "      <td>8032.000000</td>\n",
       "    </tr>\n",
       "  </tbody>\n",
       "</table>\n",
       "</div>"
      ],
      "text/plain": [
       "              score         likes\n",
       "count  90028.000000  90028.000000\n",
       "mean       2.804017     10.724686\n",
       "std        1.698045    103.788014\n",
       "min        1.000000      0.000000\n",
       "25%        1.000000      0.000000\n",
       "50%        3.000000      0.000000\n",
       "75%        5.000000      1.000000\n",
       "max        5.000000   8032.000000"
      ]
     },
     "execution_count": 68,
     "metadata": {},
     "output_type": "execute_result"
    }
   ],
   "source": [
    "x_train.describe()"
   ]
  },
  {
   "cell_type": "code",
   "execution_count": 69,
   "id": "990fc806",
   "metadata": {},
   "outputs": [],
   "source": [
    "# Lets Scale them up\n",
    "# Normalizatiion (Min-Max Scaling) --[ends up scaling data between 0 and 1]\n",
    "# Standardization ---[Centres data around the mean & scales to standard deviation of 1]"
   ]
  },
  {
   "cell_type": "raw",
   "id": "039dcc85",
   "metadata": {},
   "source": [
    "# Normalization\t"
   ]
  },
  {
   "cell_type": "code",
   "execution_count": 70,
   "id": "04694579",
   "metadata": {},
   "outputs": [],
   "source": [
    "features = ['score','likes']"
   ]
  },
  {
   "cell_type": "code",
   "execution_count": 71,
   "id": "cdb201da",
   "metadata": {},
   "outputs": [],
   "source": [
    "# df.hist(layout = (5,4),color ='blue',figsize= (15,12),grid = False)"
   ]
  },
  {
   "cell_type": "code",
   "execution_count": 72,
   "id": "9c86997f",
   "metadata": {},
   "outputs": [],
   "source": [
    "# analyzing score distribution\n",
    "# score_counts = data.Emotion.value_counts().sort_index()\n",
    "# plt.figure(figsize=(8, 4))\n",
    "# sns.barplot(x=score_counts.index, y=score_counts.values)\n",
    "# plt.xlabel('Score')\n",
    "# plt.ylabel('Count')\n",
    "# plt.title('Distribution of Scores')\n",
    "# plt.show()"
   ]
  },
  {
   "cell_type": "code",
   "execution_count": 73,
   "id": "8da594e5",
   "metadata": {
    "scrolled": true
   },
   "outputs": [],
   "source": [
    "# sentiment distribution\n",
    "# plt.figure(figsize=(12, 6))\n",
    "# sns.countplot(data=data, x='score', hue='Emotion')\n",
    "# plt.xlabel('Score')\n",
    "# plt.ylabel('Count')\n",
    "# plt.title('Sentiment Distribution for Different Scores')\n",
    "# plt.legend(title='Sentiment')\n",
    "# plt.show()\n"
   ]
  },
  {
   "cell_type": "code",
   "execution_count": 74,
   "id": "50bc5010",
   "metadata": {},
   "outputs": [],
   "source": [
    "from sklearn.preprocessing import StandardScaler, MinMaxScaler\n",
    "MS = MinMaxScaler()\n",
    "SC = StandardScaler()"
   ]
  },
  {
   "cell_type": "code",
   "execution_count": 75,
   "id": "228f404e",
   "metadata": {},
   "outputs": [],
   "source": [
    "x_train[features] = MS.fit_transform(x_train[features])"
   ]
  },
  {
   "cell_type": "markdown",
   "id": "fad785f6",
   "metadata": {},
   "source": [
    "fit()\t          Learn and estimate the parameters of the transformation\n",
    "\n",
    "transform()\t      Apply the learned transformation to new data\n",
    "\n",
    "fit_transform()\t  Learn the parameters and apply the transformation to new data"
   ]
  },
  {
   "cell_type": "code",
   "execution_count": 76,
   "id": "74944b3b",
   "metadata": {},
   "outputs": [
    {
     "data": {
      "text/html": [
       "<div>\n",
       "<style scoped>\n",
       "    .dataframe tbody tr th:only-of-type {\n",
       "        vertical-align: middle;\n",
       "    }\n",
       "\n",
       "    .dataframe tbody tr th {\n",
       "        vertical-align: top;\n",
       "    }\n",
       "\n",
       "    .dataframe thead th {\n",
       "        text-align: right;\n",
       "    }\n",
       "</style>\n",
       "<table border=\"1\" class=\"dataframe\">\n",
       "  <thead>\n",
       "    <tr style=\"text-align: right;\">\n",
       "      <th></th>\n",
       "      <th>Reviews</th>\n",
       "      <th>score</th>\n",
       "      <th>likes</th>\n",
       "    </tr>\n",
       "  </thead>\n",
       "  <tbody>\n",
       "    <tr>\n",
       "      <th>66239</th>\n",
       "      <td>love itbut icant search movi likeihop ican search</td>\n",
       "      <td>1.00</td>\n",
       "      <td>0.0</td>\n",
       "    </tr>\n",
       "    <tr>\n",
       "      <th>78578</th>\n",
       "      <td>phone support p pl fix good k tv watch phone l...</td>\n",
       "      <td>0.50</td>\n",
       "      <td>0.0</td>\n",
       "    </tr>\n",
       "    <tr>\n",
       "      <th>36713</th>\n",
       "      <td>problem app freez show download need uninstal ...</td>\n",
       "      <td>0.50</td>\n",
       "      <td>0.0</td>\n",
       "    </tr>\n",
       "    <tr>\n",
       "      <th>105313</th>\n",
       "      <td>cannot proceed bill use mobil number</td>\n",
       "      <td>0.25</td>\n",
       "      <td>0.0</td>\n",
       "    </tr>\n",
       "    <tr>\n",
       "      <th>108816</th>\n",
       "      <td>love itjust amaz love download part ad</td>\n",
       "      <td>1.00</td>\n",
       "      <td>0.0</td>\n",
       "    </tr>\n",
       "  </tbody>\n",
       "</table>\n",
       "</div>"
      ],
      "text/plain": [
       "                                                  Reviews  score  likes\n",
       "66239   love itbut icant search movi likeihop ican search   1.00    0.0\n",
       "78578   phone support p pl fix good k tv watch phone l...   0.50    0.0\n",
       "36713   problem app freez show download need uninstal ...   0.50    0.0\n",
       "105313               cannot proceed bill use mobil number   0.25    0.0\n",
       "108816             love itjust amaz love download part ad   1.00    0.0"
      ]
     },
     "execution_count": 76,
     "metadata": {},
     "output_type": "execute_result"
    }
   ],
   "source": [
    "x_train.head()"
   ]
  },
  {
   "cell_type": "code",
   "execution_count": 77,
   "id": "9c1abdab",
   "metadata": {},
   "outputs": [],
   "source": [
    "x_test[features] = MS.transform(x_test[features])"
   ]
  },
  {
   "cell_type": "code",
   "execution_count": 78,
   "id": "dcda133b",
   "metadata": {},
   "outputs": [
    {
     "data": {
      "text/html": [
       "<div>\n",
       "<style scoped>\n",
       "    .dataframe tbody tr th:only-of-type {\n",
       "        vertical-align: middle;\n",
       "    }\n",
       "\n",
       "    .dataframe tbody tr th {\n",
       "        vertical-align: top;\n",
       "    }\n",
       "\n",
       "    .dataframe thead th {\n",
       "        text-align: right;\n",
       "    }\n",
       "</style>\n",
       "<table border=\"1\" class=\"dataframe\">\n",
       "  <thead>\n",
       "    <tr style=\"text-align: right;\">\n",
       "      <th></th>\n",
       "      <th>Reviews</th>\n",
       "      <th>score</th>\n",
       "      <th>likes</th>\n",
       "    </tr>\n",
       "  </thead>\n",
       "  <tbody>\n",
       "    <tr>\n",
       "      <th>92654</th>\n",
       "      <td>cannot minim multitask turn screen</td>\n",
       "      <td>0.0</td>\n",
       "      <td>0.0</td>\n",
       "    </tr>\n",
       "    <tr>\n",
       "      <th>1965</th>\n",
       "      <td>poor respond</td>\n",
       "      <td>0.0</td>\n",
       "      <td>0.0</td>\n",
       "    </tr>\n",
       "    <tr>\n",
       "      <th>104564</th>\n",
       "      <td>sinc pay netflix good movi pay</td>\n",
       "      <td>1.0</td>\n",
       "      <td>0.0</td>\n",
       "    </tr>\n",
       "    <tr>\n",
       "      <th>103477</th>\n",
       "      <td>excel content stream</td>\n",
       "      <td>1.0</td>\n",
       "      <td>0.0</td>\n",
       "    </tr>\n",
       "    <tr>\n",
       "      <th>109077</th>\n",
       "      <td>goumd lot good show suppley thing interest dwindl</td>\n",
       "      <td>1.0</td>\n",
       "      <td>0.0</td>\n",
       "    </tr>\n",
       "  </tbody>\n",
       "</table>\n",
       "</div>"
      ],
      "text/plain": [
       "                                                  Reviews  score  likes\n",
       "92654                  cannot minim multitask turn screen    0.0    0.0\n",
       "1965                                         poor respond    0.0    0.0\n",
       "104564                     sinc pay netflix good movi pay    1.0    0.0\n",
       "103477                               excel content stream    1.0    0.0\n",
       "109077  goumd lot good show suppley thing interest dwindl    1.0    0.0"
      ]
     },
     "execution_count": 78,
     "metadata": {},
     "output_type": "execute_result"
    }
   ],
   "source": [
    "x_test.head()"
   ]
  },
  {
   "cell_type": "markdown",
   "id": "70fb2314",
   "metadata": {},
   "source": [
    "# Word Embedding"
   ]
  },
  {
   "cell_type": "code",
   "execution_count": 79,
   "id": "79ea4fc9",
   "metadata": {},
   "outputs": [],
   "source": [
    "from sklearn.feature_extraction.text import CountVectorizer, TfidfVectorizer\n",
    "cv = CountVectorizer(max_features = 4000)"
   ]
  },
  {
   "cell_type": "code",
   "execution_count": 80,
   "id": "d3cc54af",
   "metadata": {},
   "outputs": [],
   "source": [
    "X_train = x_train.values\n",
    "X_test = x_test.values"
   ]
  },
  {
   "cell_type": "code",
   "execution_count": 81,
   "id": "36152395",
   "metadata": {},
   "outputs": [],
   "source": [
    "X_train_text = X_train[ : , 0]\n",
    "X_other_features = X_train[ : , 1: ]\n",
    "X_transformed_text = cv.fit_transform(X_train_text).toarray()\n",
    "X_train_transformed = np.concatenate((X_transformed_text, X_other_features), axis=1)"
   ]
  },
  {
   "cell_type": "code",
   "execution_count": 82,
   "id": "cfb3d675",
   "metadata": {},
   "outputs": [
    {
     "data": {
      "text/plain": [
       "(90028, 4002)"
      ]
     },
     "execution_count": 82,
     "metadata": {},
     "output_type": "execute_result"
    }
   ],
   "source": [
    "X_train_transformed\n",
    "\n",
    "X_train = X_train_transformed\n",
    "X_train.shape\n"
   ]
  },
  {
   "cell_type": "code",
   "execution_count": 83,
   "id": "496a56cf",
   "metadata": {},
   "outputs": [],
   "source": [
    "X_test_text = X_test[ : , 0]\n",
    "X_other_features = X_test[ : , 1: ]\n",
    "X_transformed_text = cv.transform(X_test_text).toarray()\n",
    "X_test_transformed = np.concatenate((X_transformed_text, X_other_features), axis=1)"
   ]
  },
  {
   "cell_type": "code",
   "execution_count": 84,
   "id": "20c48c6d",
   "metadata": {},
   "outputs": [
    {
     "data": {
      "text/plain": [
       "(22507, 4002)"
      ]
     },
     "execution_count": 84,
     "metadata": {},
     "output_type": "execute_result"
    }
   ],
   "source": [
    "X_test = X_test_transformed\n",
    "X_test.shape"
   ]
  },
  {
   "cell_type": "code",
   "execution_count": 85,
   "id": "4c69702d",
   "metadata": {},
   "outputs": [],
   "source": [
    "# Model Building"
   ]
  },
  {
   "cell_type": "code",
   "execution_count": 86,
   "id": "f84a4304",
   "metadata": {
    "scrolled": true
   },
   "outputs": [],
   "source": [
    "# pip install xgboost"
   ]
  },
  {
   "cell_type": "code",
   "execution_count": 87,
   "id": "30021dc9",
   "metadata": {},
   "outputs": [],
   "source": [
    "from sklearn.naive_bayes import GaussianNB, MultinomialNB, BernoulliNB\n",
    "from sklearn.neighbors import KNeighborsClassifier\n",
    "from sklearn.ensemble import RandomForestClassifier, ExtraTreesClassifier\n",
    "\n",
    "GNB = GaussianNB()\n",
    "MNB = MultinomialNB()\n",
    "BNB = BernoulliNB()\n",
    "knn = KNeighborsClassifier()\n",
    "RFC = RandomForestClassifier(n_estimators=50, random_state=42)\n",
    "ETC = ExtraTreesClassifier(n_estimators=50, random_state=42)"
   ]
  },
  {
   "cell_type": "code",
   "execution_count": 88,
   "id": "e596f2ca",
   "metadata": {},
   "outputs": [],
   "source": [
    "Classifiers = {\n",
    "    'GaussianNB': GNB,\n",
    "    'MultinomialNB': MNB,\n",
    "    'BernoulliNB': BNB,\n",
    "    'KNN':knn,\n",
    "    'RandomForestClassifier':RFC,\n",
    "    'ExtraTreesClassifier':ETC,\n",
    "}"
   ]
  },
  {
   "cell_type": "code",
   "execution_count": 89,
   "id": "6c3cec94",
   "metadata": {},
   "outputs": [],
   "source": [
    "def train_model(clf):\n",
    "    clf.fit(X_train,y_train)\n",
    "    y_pred = clf.predict(X_test)\n",
    "    score = accuracy_score(y_test, y_pred)\n",
    "    p_score = precision_score(y_test, y_pred, average='weighted')\n",
    "    kf_score = cross_val_score(estimator=clf, X=X_train, y=y_train, cv=5)\n",
    "    return str(score*100)+'%' , str(p_score*100)+'%'"
   ]
  },
  {
   "cell_type": "code",
   "execution_count": 92,
   "id": "059151de",
   "metadata": {},
   "outputs": [
    {
     "name": "stdout",
     "output_type": "stream",
     "text": [
      "GaussianNB has been successfully evaluated. Total time taken is: 441.17897057533264 seconds\n",
      "MultinomialNB has been successfully evaluated. Total time taken is: 292.6976041793823 seconds\n",
      "BernoulliNB has been successfully evaluated. Total time taken is: 252.19318413734436 seconds\n",
      "KNN has been successfully evaluated. Total time taken is: 1393.8360886573792 seconds\n",
      "RandomForestClassifier has been successfully evaluated. Total time taken is: 75424.75206208229 seconds\n",
      "ExtraTreesClassifier has been successfully evaluated. Total time taken is: 3081.0003345012665 seconds\n"
     ]
    }
   ],
   "source": [
    "import time\n",
    "from sklearn.model_selection import cross_val_score\n",
    "\n",
    "precision = []\n",
    "accuracy = []\n",
    "# start_time = time.time()                             \n",
    "\n",
    "for model,classifier in Classifiers.items():\n",
    "    acc,prec = train_model(classifier)\n",
    "    accuracy.append(acc)\n",
    "    precision.append(prec)\n",
    "#     finish_time = time.time()\n",
    "#     print(\"{} has been successfully evaluated. Total time taken is: {} seconds\".format(model, (finish_time-start_time)))\n",
    "#     start_time = finish_time"
   ]
  },
  {
   "cell_type": "code",
   "execution_count": 93,
   "id": "86171bf1",
   "metadata": {},
   "outputs": [
    {
     "data": {
      "text/html": [
       "<div>\n",
       "<style scoped>\n",
       "    .dataframe tbody tr th:only-of-type {\n",
       "        vertical-align: middle;\n",
       "    }\n",
       "\n",
       "    .dataframe tbody tr th {\n",
       "        vertical-align: top;\n",
       "    }\n",
       "\n",
       "    .dataframe thead th {\n",
       "        text-align: right;\n",
       "    }\n",
       "</style>\n",
       "<table border=\"1\" class=\"dataframe\">\n",
       "  <thead>\n",
       "    <tr style=\"text-align: right;\">\n",
       "      <th></th>\n",
       "      <th>Model</th>\n",
       "      <th>Accuracy</th>\n",
       "      <th>Precision</th>\n",
       "    </tr>\n",
       "  </thead>\n",
       "  <tbody>\n",
       "    <tr>\n",
       "      <th>0</th>\n",
       "      <td>GaussianNB</td>\n",
       "      <td>68.01883858355178%</td>\n",
       "      <td>73.79984823393879%</td>\n",
       "    </tr>\n",
       "    <tr>\n",
       "      <th>1</th>\n",
       "      <td>MultinomialNB</td>\n",
       "      <td>78.68218776380681%</td>\n",
       "      <td>78.10804742409142%</td>\n",
       "    </tr>\n",
       "    <tr>\n",
       "      <th>2</th>\n",
       "      <td>BernoulliNB</td>\n",
       "      <td>81.21473319411739%</td>\n",
       "      <td>80.73104764968375%</td>\n",
       "    </tr>\n",
       "    <tr>\n",
       "      <th>3</th>\n",
       "      <td>KNN</td>\n",
       "      <td>82.39658772826232%</td>\n",
       "      <td>81.01460158562986%</td>\n",
       "    </tr>\n",
       "    <tr>\n",
       "      <th>4</th>\n",
       "      <td>RandomForestClassifier</td>\n",
       "      <td>99.04029857377705%</td>\n",
       "      <td>99.04804889025657%</td>\n",
       "    </tr>\n",
       "    <tr>\n",
       "      <th>5</th>\n",
       "      <td>ExtraTreesClassifier</td>\n",
       "      <td>98.26720575820855%</td>\n",
       "      <td>98.30448683559406%</td>\n",
       "    </tr>\n",
       "  </tbody>\n",
       "</table>\n",
       "</div>"
      ],
      "text/plain": [
       "                    Model            Accuracy           Precision\n",
       "0              GaussianNB  68.01883858355178%  73.79984823393879%\n",
       "1           MultinomialNB  78.68218776380681%  78.10804742409142%\n",
       "2             BernoulliNB  81.21473319411739%  80.73104764968375%\n",
       "3                     KNN  82.39658772826232%  81.01460158562986%\n",
       "4  RandomForestClassifier  99.04029857377705%  99.04804889025657%\n",
       "5    ExtraTreesClassifier  98.26720575820855%  98.30448683559406%"
      ]
     },
     "execution_count": 93,
     "metadata": {},
     "output_type": "execute_result"
    }
   ],
   "source": [
    "Models_comparison = pd.DataFrame({'Model': Classifiers.keys(), 'Accuracy': accuracy, 'Precision': precision})\n",
    "Models_comparison"
   ]
  }
 ],
 "metadata": {
  "kernelspec": {
   "display_name": "Python 3 (ipykernel)",
   "language": "python",
   "name": "python3"
  },
  "language_info": {
   "codemirror_mode": {
    "name": "ipython",
    "version": 3
   },
   "file_extension": ".py",
   "mimetype": "text/x-python",
   "name": "python",
   "nbconvert_exporter": "python",
   "pygments_lexer": "ipython3",
   "version": "3.11.5"
  }
 },
 "nbformat": 4,
 "nbformat_minor": 5
}
